{
 "cells": [
  {
   "cell_type": "markdown",
   "metadata": {},
   "source": [
    "Day 01 - Activity 01"
   ]
  },
  {
   "cell_type": "markdown",
   "metadata": {},
   "source": [
    "Q1) \n",
    "a.Complete the following activity using the “titanic.csv” dataset using Python's\n",
    "built-in functions."
   ]
  },
  {
   "cell_type": "markdown",
   "metadata": {},
   "source": [
    "1. Create a list of dictionaries using passenger details(Name, Sex, Age, cabin), where\n",
    "each dictionary represents the information for one passenger. Print details\n",
    "related to the first 3 passengers."
   ]
  },
  {
   "cell_type": "code",
   "execution_count": 4,
   "metadata": {},
   "outputs": [
    {
     "name": "stdout",
     "output_type": "stream",
     "text": [
      "Details of the first 3 passengers: [{'Name': 'Braund  Mr. Owen Harris', 'Sex': 'male', 'Age': '22', 'Cabin': ''}, {'Name': 'Cumings  Mrs. John Bradley (Florence Briggs Thayer)', 'Sex': 'female', 'Age': '38', 'Cabin': 'C85'}, {'Name': 'Heikkinen  Miss. Laina', 'Sex': 'female', 'Age': '26', 'Cabin': ''}]\n"
     ]
    }
   ],
   "source": [
    "passengers = [] # create list\n",
    "\n",
    "with open('titanic.csv', 'r') as file: # open file in read mode\n",
    "    header = file.readline().strip().split(',') # read the header line and split them\n",
    "    for line in file: \n",
    "        values = line.strip().split(',') # split the row data\n",
    "        passenger_info = {\n",
    "            # get the required passanger data\n",
    "            'Name': values[header.index('Name')],\n",
    "            'Sex': values[header.index('Sex')],\n",
    "            'Age': values[header.index('Age')],\n",
    "            'Cabin': values[header.index('Cabin')] if 'Cabin' in header else '' # to avoid the null values error\n",
    "        }\n",
    "        passengers.append(passenger_info) # add the passanger dic into list\n",
    "\n",
    "print(\"Details of the first 3 passengers:\" , passengers[:3]) # print the first 3 passanger details"
   ]
  },
  {
   "cell_type": "markdown",
   "metadata": {},
   "source": [
    "2. Count the number of passengers."
   ]
  },
  {
   "cell_type": "code",
   "execution_count": 5,
   "metadata": {},
   "outputs": [
    {
     "name": "stdout",
     "output_type": "stream",
     "text": [
      "Total number of passanger traveled in titanic :  891\n"
     ]
    }
   ],
   "source": [
    "print(\"Total number of passanger traveled in titanic : \", len(passengers))"
   ]
  },
  {
   "cell_type": "markdown",
   "metadata": {},
   "source": [
    "3. Find the average age of the passengers onboard the Titanic"
   ]
  },
  {
   "cell_type": "code",
   "execution_count": 8,
   "metadata": {},
   "outputs": [
    {
     "name": "stdout",
     "output_type": "stream",
     "text": [
      "Average age of passengers: 29.7\n"
     ]
    }
   ],
   "source": [
    "passenger_ages = [float(p['Age']) if p['Age'] and p['Age'] != 'NaN' else 0 for p in passengers] # get ages from the list of dic and place zero for missing and null values\n",
    "non_zero_ages = [age for age in passenger_ages if age > 0] # get the non_zero ages\n",
    "\n",
    "average_age = sum(non_zero_ages) / len(non_zero_ages)\n",
    "print(\"Average age of passengers:\", round(average_age, 2))"
   ]
  },
  {
   "cell_type": "markdown",
   "metadata": {},
   "source": [
    "4. Count the number of male passengers who survived in the first-class cabin."
   ]
  },
  {
   "cell_type": "code",
   "execution_count": 13,
   "metadata": {},
   "outputs": [
    {
     "name": "stdout",
     "output_type": "stream",
     "text": [
      "Number of male passengers who survived in the first-class cabin: 45\n"
     ]
    }
   ],
   "source": [
    "passengers = [] # create list\n",
    "\n",
    "with open('titanic.csv', 'r') as file: # open file in read mode\n",
    "    header = file.readline().strip().split(',') # read the header line and split them\n",
    "    for line in file: \n",
    "        values = line.strip().split(',') # split the row data\n",
    "        passenger_info = {\n",
    "            # get the required passanger data\n",
    "            'Name': values[header.index('Name')],\n",
    "            'Sex': values[header.index('Sex')],\n",
    "            'Age': values[header.index('Age')],\n",
    "            'Pclass': values[header.index('Pclass')],\n",
    "            'Survived': values[header.index('Survived')],\n",
    "            'Fare': values[header.index('Fare')],\n",
    "            'Cabin': values[header.index('Cabin')] if 'Cabin' in header else '' # to avoid the null values error\n",
    "        }\n",
    "        passengers.append(passenger_info) # add the passanger dic into list\n",
    "\n",
    "num_male_survived_first_class = sum(1 for p in passengers if p['Sex'] == 'male' and p['Pclass'] == '1' and p['Survived'] == '1')\n",
    "print(\"Number of male passengers who survived in the first-class cabin:\", num_male_survived_first_class)"
   ]
  },
  {
   "cell_type": "markdown",
   "metadata": {},
   "source": [
    "5. Count the number of passengers who paid more than $300 and print their\n",
    "names."
   ]
  },
  {
   "cell_type": "code",
   "execution_count": 15,
   "metadata": {},
   "outputs": [
    {
     "name": "stdout",
     "output_type": "stream",
     "text": [
      "Number of passengers who paid more than $300: 3\n",
      "Names of passengers who paid more than $300:\n",
      " ['Ward  Miss. Anna', 'Cardeza  Mr. Thomas Drake Martinez', 'Lesurer  Mr. Gustave J']\n"
     ]
    }
   ],
   "source": [
    "passengers_high_fare = [p['Name'] for p in passengers if p['Fare'] and float(p['Fare']) > 300]\n",
    "\n",
    "print(\"Number of passengers who paid more than $300:\", len(passengers_high_fare))\n",
    "print(\"Names of passengers who paid more than $300:\\n\", passengers_high_fare)\n"
   ]
  },
  {
   "cell_type": "markdown",
   "metadata": {},
   "source": [
    "Q2. Write a simple number guessing game between 1 to 100. You should loop this until a\n",
    "correct attempt occurs and total attempts should be counted. Print the following output according\n",
    "to each guess.\n",
    "(1). if the guessed number is lower than the\n",
    "real number then print - Lower than the\n",
    "number!\n",
    "(2). if the guessed number is higher than the\n",
    "real number then print - Higher than\n",
    "the number!\n",
    "(3). if the guessed number is correct then\n",
    "print - Congratulations! (After\n",
    "<number> attempts you found it!)"
   ]
  },
  {
   "cell_type": "code",
   "execution_count": 18,
   "metadata": {},
   "outputs": [
    {
     "name": "stdout",
     "output_type": "stream",
     "text": [
      "Lower than the number! Try again.\n",
      "Lower than the number! Try again.\n",
      "Lower than the number! Try again.\n",
      "Lower than the number! Try again.\n",
      "Lower than the number! Try again.\n",
      "Higher than the number! Try again.\n",
      "Congratulations! After 7 attempts, you found it!\n"
     ]
    }
   ],
   "source": [
    "import random\n",
    "real_number = random.randint(1, 100) # Generate a random number between 1 and 100\n",
    "attempts = 0\n",
    "while True:\n",
    "    guess = int(input(\"Guess the number between 1 and 100: \")) # Get user input for the guessed number\n",
    "    attempts += 1\n",
    "    if guess == real_number:\n",
    "        print(f\"Congratulations! After {attempts} attempts, you found it!\")\n",
    "        break\n",
    "    elif guess < real_number:\n",
    "        print(\"Lower than the number! Try again.\")\n",
    "    else:\n",
    "        print(\"Higher than the number! Try again.\")\n"
   ]
  },
  {
   "cell_type": "code",
   "execution_count": null,
   "metadata": {},
   "outputs": [],
   "source": []
  }
 ],
 "metadata": {
  "kernelspec": {
   "display_name": "dsp_ucsc",
   "language": "python",
   "name": "python3"
  },
  "language_info": {
   "codemirror_mode": {
    "name": "ipython",
    "version": 3
   },
   "file_extension": ".py",
   "mimetype": "text/x-python",
   "name": "python",
   "nbconvert_exporter": "python",
   "pygments_lexer": "ipython3",
   "version": "3.8.18"
  }
 },
 "nbformat": 4,
 "nbformat_minor": 2
}
